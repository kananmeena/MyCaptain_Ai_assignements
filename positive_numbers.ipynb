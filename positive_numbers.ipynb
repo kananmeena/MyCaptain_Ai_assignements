{
  "nbformat": 4,
  "nbformat_minor": 0,
  "metadata": {
    "colab": {
      "provenance": [],
      "authorship_tag": "ABX9TyPAXYa+FqsFVw7PqnB0ej0w",
      "include_colab_link": true
    },
    "kernelspec": {
      "name": "python3",
      "display_name": "Python 3"
    },
    "language_info": {
      "name": "python"
    }
  },
  "cells": [
    {
      "cell_type": "markdown",
      "metadata": {
        "id": "view-in-github",
        "colab_type": "text"
      },
      "source": [
        "<a href=\"https://colab.research.google.com/github/kananmeena/MyCaptain_Ai_assignements/blob/main/positive_numbers.ipynb\" target=\"_parent\"><img src=\"https://colab.research.google.com/assets/colab-badge.svg\" alt=\"Open In Colab\"/></a>"
      ]
    },
    {
      "cell_type": "code",
      "execution_count": 8,
      "metadata": {
        "colab": {
          "base_uri": "https://localhost:8080/"
        },
        "id": "QY9a3hrjWLPG",
        "outputId": "abeeda73-7dc4-46b5-aa25-23f157a6cc5b"
      },
      "outputs": [
        {
          "output_type": "stream",
          "name": "stdout",
          "text": [
            "Input your range of numbers (separated by commas): 3, 5, -10\n",
            "[3, 5]\n"
          ]
        }
      ],
      "source": [
        "def positive_numbers(lst):\n",
        "    positive_numbers = []\n",
        "    for num in lst:\n",
        "        if num > 0:\n",
        "            positive_numbers.append(num)\n",
        "    return positive_numbers\n",
        "\n",
        "l1 = input(\"Input your range of numbers (separated by commas): \")\n",
        "l1 = l1.split(\",\")  # Splitting the input string by commas to create a list\n",
        "l1 = [int(num) for num in l1]  # Converting each element in the list to an integer\n",
        "\n",
        "print(positive_numbers(l1))"
      ]
    }
  ]
}