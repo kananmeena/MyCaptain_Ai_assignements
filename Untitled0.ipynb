 # This is my first python code
        # I will be using print function to print Heloo world
        print(\"hello World!\")
   
