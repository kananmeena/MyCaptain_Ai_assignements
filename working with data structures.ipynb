{
  "nbformat": 4,
  "nbformat_minor": 0,
  "metadata": {
    "colab": {
      "provenance": [],
      "authorship_tag": "ABX9TyPHony4suM9vIF2kLVIyxPs",
      "include_colab_link": true
    },
    "kernelspec": {
      "name": "python3",
      "display_name": "Python 3"
    },
    "language_info": {
      "name": "python"
    }
  },
  "cells": [
    {
      "cell_type": "markdown",
      "metadata": {
        "id": "view-in-github",
        "colab_type": "text"
      },
      "source": [
        "<a href=\"https://colab.research.google.com/github/kananmeena/MyCaptain_Ai_assignements/blob/main/Untitled1.ipynb\" target=\"_parent\"><img src=\"https://colab.research.google.com/assets/colab-badge.svg\" alt=\"Open In Colab\"/></a>"
      ]
    },
    {
      "cell_type": "code",
      "execution_count": 1,
      "metadata": {
        "colab": {
          "base_uri": "https://localhost:8080/"
        },
        "id": "lBlIgkCVZCcB",
        "outputId": "cb901017-c62e-4b3e-b4ed-1fd247ad603c"
      },
      "outputs": [
        {
          "output_type": "stream",
          "name": "stdout",
          "text": [
            "Enter elements of the first set separated by spaces: 1 2 3 4 5 6 7 8 9 \n",
            "Enter elements of the second set separated by spaces: 2 4 6 8\n",
            "Union: {1, 2, 3, 4, 5, 6, 7, 8, 9}\n",
            "Intersection: {8, 2, 4, 6}\n",
            "Difference (set1 - set2): {1, 3, 5, 7, 9}\n",
            "Symmetric Difference: {1, 3, 5, 7, 9}\n"
          ]
        }
      ],
      "source": [
        "# Take input from users for the two sets and convert them to sets of integers\n",
        "set1 = {int(x) for x in input(\"Enter elements of the first set separated by spaces: \").split()}\n",
        "set2 = {int(x) for x in input(\"Enter elements of the second set separated by spaces: \").split()}\n",
        "\n",
        "# Perform set operations and print results\n",
        "print(\"Union:\", set1 | set2)\n",
        "print(\"Intersection:\", set1 & set2)\n",
        "print(\"Difference (set1 - set2):\", set1 - set2)\n",
        "print(\"Symmetric Difference:\", set1 ^ set2)"
      ]
    }
  ]
}
